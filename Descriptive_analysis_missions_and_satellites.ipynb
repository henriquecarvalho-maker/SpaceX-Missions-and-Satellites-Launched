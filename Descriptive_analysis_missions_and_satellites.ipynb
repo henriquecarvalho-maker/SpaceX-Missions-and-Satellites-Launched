{
 "cells": [
  {
   "cell_type": "code",
   "execution_count": 63,
   "id": "82b2f68c",
   "metadata": {},
   "outputs": [],
   "source": [
    "import pandas as pd\n",
    "import numpy as np\n",
    "import seaborn as sns\n",
    "import matplotlib\n",
    "import matplotlib.pyplot as plt"
   ]
  },
  {
   "cell_type": "code",
   "execution_count": 64,
   "id": "4b6a3316",
   "metadata": {},
   "outputs": [],
   "source": [
    "data = pd.read_csv('dados/missions_launched.csv')\n"
   ]
  },
  {
   "cell_type": "code",
   "execution_count": 65,
   "id": "59437088",
   "metadata": {},
   "outputs": [
    {
     "data": {
      "text/html": [
       "<div>\n",
       "<style scoped>\n",
       "    .dataframe tbody tr th:only-of-type {\n",
       "        vertical-align: middle;\n",
       "    }\n",
       "\n",
       "    .dataframe tbody tr th {\n",
       "        vertical-align: top;\n",
       "    }\n",
       "\n",
       "    .dataframe thead th {\n",
       "        text-align: right;\n",
       "    }\n",
       "</style>\n",
       "<table border=\"1\" class=\"dataframe\">\n",
       "  <thead>\n",
       "    <tr style=\"text-align: right;\">\n",
       "      <th></th>\n",
       "      <th>Flight Number</th>\n",
       "      <th>Launch Date</th>\n",
       "      <th>Launch Time</th>\n",
       "      <th>Launch Site</th>\n",
       "      <th>Vehicle Type</th>\n",
       "      <th>Payload Name</th>\n",
       "      <th>Payload Type</th>\n",
       "      <th>Payload Mass (kg)</th>\n",
       "      <th>Payload Orbit</th>\n",
       "      <th>Customer Name</th>\n",
       "      <th>Customer Type</th>\n",
       "      <th>Customer Country</th>\n",
       "      <th>Mission Outcome</th>\n",
       "      <th>Failure Reason</th>\n",
       "      <th>Landing Type</th>\n",
       "      <th>Landing Outcome</th>\n",
       "    </tr>\n",
       "  </thead>\n",
       "  <tbody>\n",
       "    <tr>\n",
       "      <th>0</th>\n",
       "      <td>F1-1</td>\n",
       "      <td>24 March 2006</td>\n",
       "      <td>22:30</td>\n",
       "      <td>Marshall Islands</td>\n",
       "      <td>Falcon 1</td>\n",
       "      <td>FalconSAT-2</td>\n",
       "      <td>Research Satellite</td>\n",
       "      <td>19.5</td>\n",
       "      <td>NaN</td>\n",
       "      <td>DARPA</td>\n",
       "      <td>Government</td>\n",
       "      <td>United States</td>\n",
       "      <td>Failure</td>\n",
       "      <td>Engine Fire During Launch</td>\n",
       "      <td>NaN</td>\n",
       "      <td>NaN</td>\n",
       "    </tr>\n",
       "    <tr>\n",
       "      <th>1</th>\n",
       "      <td>F1-2</td>\n",
       "      <td>21 March 2007</td>\n",
       "      <td>01:10</td>\n",
       "      <td>Marshall Islands</td>\n",
       "      <td>Falcon 1</td>\n",
       "      <td>DemoSat</td>\n",
       "      <td>NaN</td>\n",
       "      <td>NaN</td>\n",
       "      <td>NaN</td>\n",
       "      <td>DARPA</td>\n",
       "      <td>Government</td>\n",
       "      <td>United States</td>\n",
       "      <td>Failure</td>\n",
       "      <td>Engine Shutdown During Launch</td>\n",
       "      <td>NaN</td>\n",
       "      <td>NaN</td>\n",
       "    </tr>\n",
       "    <tr>\n",
       "      <th>2</th>\n",
       "      <td>F1-3</td>\n",
       "      <td>3 August 2008</td>\n",
       "      <td>03:34</td>\n",
       "      <td>Marshall Islands</td>\n",
       "      <td>Falcon 1</td>\n",
       "      <td>Trailblazer</td>\n",
       "      <td>Communication Satellite</td>\n",
       "      <td>NaN</td>\n",
       "      <td>NaN</td>\n",
       "      <td>ORS</td>\n",
       "      <td>Government</td>\n",
       "      <td>United States</td>\n",
       "      <td>Failure</td>\n",
       "      <td>Collision During Launch</td>\n",
       "      <td>NaN</td>\n",
       "      <td>NaN</td>\n",
       "    </tr>\n",
       "    <tr>\n",
       "      <th>3</th>\n",
       "      <td>F1-3</td>\n",
       "      <td>3 August 2008</td>\n",
       "      <td>03:34</td>\n",
       "      <td>Marshall Islands</td>\n",
       "      <td>Falcon 1</td>\n",
       "      <td>PRESat, NanoSail-D</td>\n",
       "      <td>Research Satellites</td>\n",
       "      <td>8.0</td>\n",
       "      <td>NaN</td>\n",
       "      <td>NASA</td>\n",
       "      <td>Government</td>\n",
       "      <td>United States</td>\n",
       "      <td>Failure</td>\n",
       "      <td>Collision During Launch</td>\n",
       "      <td>NaN</td>\n",
       "      <td>NaN</td>\n",
       "    </tr>\n",
       "    <tr>\n",
       "      <th>4</th>\n",
       "      <td>F1-3</td>\n",
       "      <td>3 August 2008</td>\n",
       "      <td>03:34</td>\n",
       "      <td>Marshall Islands</td>\n",
       "      <td>Falcon 1</td>\n",
       "      <td>Explorers</td>\n",
       "      <td>Human Remains</td>\n",
       "      <td>NaN</td>\n",
       "      <td>NaN</td>\n",
       "      <td>Celestis</td>\n",
       "      <td>Business</td>\n",
       "      <td>United States</td>\n",
       "      <td>Failure</td>\n",
       "      <td>Collision During Launch</td>\n",
       "      <td>NaN</td>\n",
       "      <td>NaN</td>\n",
       "    </tr>\n",
       "  </tbody>\n",
       "</table>\n",
       "</div>"
      ],
      "text/plain": [
       "  Flight Number    Launch Date Launch Time       Launch Site Vehicle Type  \\\n",
       "0          F1-1  24 March 2006       22:30  Marshall Islands     Falcon 1   \n",
       "1          F1-2  21 March 2007       01:10  Marshall Islands     Falcon 1   \n",
       "2          F1-3  3 August 2008       03:34  Marshall Islands     Falcon 1   \n",
       "3          F1-3  3 August 2008       03:34  Marshall Islands     Falcon 1   \n",
       "4          F1-3  3 August 2008       03:34  Marshall Islands     Falcon 1   \n",
       "\n",
       "         Payload Name             Payload Type  Payload Mass (kg)  \\\n",
       "0         FalconSAT-2       Research Satellite               19.5   \n",
       "1             DemoSat                      NaN                NaN   \n",
       "2         Trailblazer  Communication Satellite                NaN   \n",
       "3  PRESat, NanoSail-D      Research Satellites                8.0   \n",
       "4           Explorers            Human Remains                NaN   \n",
       "\n",
       "  Payload Orbit Customer Name Customer Type Customer Country Mission Outcome  \\\n",
       "0           NaN         DARPA    Government    United States         Failure   \n",
       "1           NaN         DARPA    Government    United States         Failure   \n",
       "2           NaN           ORS    Government    United States         Failure   \n",
       "3           NaN          NASA    Government    United States         Failure   \n",
       "4           NaN      Celestis      Business    United States         Failure   \n",
       "\n",
       "                  Failure Reason Landing Type Landing Outcome  \n",
       "0      Engine Fire During Launch          NaN             NaN  \n",
       "1  Engine Shutdown During Launch          NaN             NaN  \n",
       "2        Collision During Launch          NaN             NaN  \n",
       "3        Collision During Launch          NaN             NaN  \n",
       "4        Collision During Launch          NaN             NaN  "
      ]
     },
     "execution_count": 65,
     "metadata": {},
     "output_type": "execute_result"
    }
   ],
   "source": [
    "data.head()"
   ]
  },
  {
   "cell_type": "code",
   "execution_count": 66,
   "id": "13d39b1f",
   "metadata": {},
   "outputs": [
    {
     "data": {
      "text/plain": [
       "array(['Falcon 1', 'Falcon 9 (v1.0)', 'Falcon 9 (v1.1)',\n",
       "       'Falcon 9 Full Thrust (v1.2)'], dtype=object)"
      ]
     },
     "execution_count": 66,
     "metadata": {},
     "output_type": "execute_result"
    }
   ],
   "source": [
    "data['Vehicle Type'].unique()"
   ]
  },
  {
   "cell_type": "code",
   "execution_count": 67,
   "id": "1f5ee103",
   "metadata": {},
   "outputs": [
    {
     "data": {
      "text/plain": [
       "array(['Failure', 'Success'], dtype=object)"
      ]
     },
     "execution_count": 67,
     "metadata": {},
     "output_type": "execute_result"
    }
   ],
   "source": [
    "data['Mission Outcome'].unique()"
   ]
  },
  {
   "cell_type": "code",
   "execution_count": 68,
   "id": "453a768a",
   "metadata": {},
   "outputs": [
    {
     "data": {
      "text/html": [
       "<div>\n",
       "<style scoped>\n",
       "    .dataframe tbody tr th:only-of-type {\n",
       "        vertical-align: middle;\n",
       "    }\n",
       "\n",
       "    .dataframe tbody tr th {\n",
       "        vertical-align: top;\n",
       "    }\n",
       "\n",
       "    .dataframe thead th {\n",
       "        text-align: right;\n",
       "    }\n",
       "</style>\n",
       "<table border=\"1\" class=\"dataframe\">\n",
       "  <thead>\n",
       "    <tr style=\"text-align: right;\">\n",
       "      <th></th>\n",
       "      <th>Mission Outcome</th>\n",
       "      <th>Count</th>\n",
       "    </tr>\n",
       "  </thead>\n",
       "  <tbody>\n",
       "    <tr>\n",
       "      <th>0</th>\n",
       "      <td>Failure</td>\n",
       "      <td>8</td>\n",
       "    </tr>\n",
       "    <tr>\n",
       "      <th>1</th>\n",
       "      <td>Success</td>\n",
       "      <td>33</td>\n",
       "    </tr>\n",
       "  </tbody>\n",
       "</table>\n",
       "</div>"
      ],
      "text/plain": [
       "  Mission Outcome  Count\n",
       "0         Failure      8\n",
       "1         Success     33"
      ]
     },
     "execution_count": 68,
     "metadata": {},
     "output_type": "execute_result"
    }
   ],
   "source": [
    "data_S_F = data.groupby('Mission Outcome').size().reset_index(name='Count')\n",
    "data_S_F"
   ]
  },
  {
   "cell_type": "code",
   "execution_count": 69,
   "id": "dff96108",
   "metadata": {},
   "outputs": [
    {
     "data": {
      "text/html": [
       "<div>\n",
       "<style scoped>\n",
       "    .dataframe tbody tr th:only-of-type {\n",
       "        vertical-align: middle;\n",
       "    }\n",
       "\n",
       "    .dataframe tbody tr th {\n",
       "        vertical-align: top;\n",
       "    }\n",
       "\n",
       "    .dataframe thead th {\n",
       "        text-align: right;\n",
       "    }\n",
       "</style>\n",
       "<table border=\"1\" class=\"dataframe\">\n",
       "  <thead>\n",
       "    <tr style=\"text-align: right;\">\n",
       "      <th></th>\n",
       "      <th>Vehicle Type</th>\n",
       "      <th>Mission Outcome</th>\n",
       "      <th>Count</th>\n",
       "    </tr>\n",
       "  </thead>\n",
       "  <tbody>\n",
       "    <tr>\n",
       "      <th>0</th>\n",
       "      <td>Falcon 1</td>\n",
       "      <td>Failure</td>\n",
       "      <td>5</td>\n",
       "    </tr>\n",
       "    <tr>\n",
       "      <th>1</th>\n",
       "      <td>Falcon 1</td>\n",
       "      <td>Success</td>\n",
       "      <td>2</td>\n",
       "    </tr>\n",
       "    <tr>\n",
       "      <th>2</th>\n",
       "      <td>Falcon 9 (v1.0)</td>\n",
       "      <td>Failure</td>\n",
       "      <td>1</td>\n",
       "    </tr>\n",
       "    <tr>\n",
       "      <th>3</th>\n",
       "      <td>Falcon 9 (v1.0)</td>\n",
       "      <td>Success</td>\n",
       "      <td>5</td>\n",
       "    </tr>\n",
       "    <tr>\n",
       "      <th>4</th>\n",
       "      <td>Falcon 9 (v1.1)</td>\n",
       "      <td>Failure</td>\n",
       "      <td>1</td>\n",
       "    </tr>\n",
       "    <tr>\n",
       "      <th>5</th>\n",
       "      <td>Falcon 9 (v1.1)</td>\n",
       "      <td>Success</td>\n",
       "      <td>15</td>\n",
       "    </tr>\n",
       "    <tr>\n",
       "      <th>6</th>\n",
       "      <td>Falcon 9 Full Thrust (v1.2)</td>\n",
       "      <td>Failure</td>\n",
       "      <td>1</td>\n",
       "    </tr>\n",
       "    <tr>\n",
       "      <th>7</th>\n",
       "      <td>Falcon 9 Full Thrust (v1.2)</td>\n",
       "      <td>Success</td>\n",
       "      <td>11</td>\n",
       "    </tr>\n",
       "  </tbody>\n",
       "</table>\n",
       "</div>"
      ],
      "text/plain": [
       "                  Vehicle Type Mission Outcome  Count\n",
       "0                     Falcon 1         Failure      5\n",
       "1                     Falcon 1         Success      2\n",
       "2              Falcon 9 (v1.0)         Failure      1\n",
       "3              Falcon 9 (v1.0)         Success      5\n",
       "4              Falcon 9 (v1.1)         Failure      1\n",
       "5              Falcon 9 (v1.1)         Success     15\n",
       "6  Falcon 9 Full Thrust (v1.2)         Failure      1\n",
       "7  Falcon 9 Full Thrust (v1.2)         Success     11"
      ]
     },
     "execution_count": 69,
     "metadata": {},
     "output_type": "execute_result"
    }
   ],
   "source": [
    "data_s_f_rocket = data.groupby(['Vehicle Type','Mission Outcome']).size().reset_index(name='Count')\n",
    "data_s_f_rocket"
   ]
  },
  {
   "cell_type": "code",
   "execution_count": 70,
   "id": "d3fbc675",
   "metadata": {},
   "outputs": [
    {
     "data": {
      "text/html": [
       "<div>\n",
       "<style scoped>\n",
       "    .dataframe tbody tr th:only-of-type {\n",
       "        vertical-align: middle;\n",
       "    }\n",
       "\n",
       "    .dataframe tbody tr th {\n",
       "        vertical-align: top;\n",
       "    }\n",
       "\n",
       "    .dataframe thead th {\n",
       "        text-align: right;\n",
       "    }\n",
       "</style>\n",
       "<table border=\"1\" class=\"dataframe\">\n",
       "  <thead>\n",
       "    <tr style=\"text-align: right;\">\n",
       "      <th>Mission Outcome</th>\n",
       "      <th>Vehicle Type</th>\n",
       "      <th>Failure</th>\n",
       "      <th>Success</th>\n",
       "    </tr>\n",
       "  </thead>\n",
       "  <tbody>\n",
       "    <tr>\n",
       "      <th>0</th>\n",
       "      <td>Falcon 1</td>\n",
       "      <td>5</td>\n",
       "      <td>2</td>\n",
       "    </tr>\n",
       "    <tr>\n",
       "      <th>1</th>\n",
       "      <td>Falcon 9 (v1.0)</td>\n",
       "      <td>1</td>\n",
       "      <td>5</td>\n",
       "    </tr>\n",
       "    <tr>\n",
       "      <th>2</th>\n",
       "      <td>Falcon 9 (v1.1)</td>\n",
       "      <td>1</td>\n",
       "      <td>15</td>\n",
       "    </tr>\n",
       "    <tr>\n",
       "      <th>3</th>\n",
       "      <td>Falcon 9 Full Thrust (v1.2)</td>\n",
       "      <td>1</td>\n",
       "      <td>11</td>\n",
       "    </tr>\n",
       "  </tbody>\n",
       "</table>\n",
       "</div>"
      ],
      "text/plain": [
       "Mission Outcome                 Vehicle Type  Failure  Success\n",
       "0                                   Falcon 1        5        2\n",
       "1                            Falcon 9 (v1.0)        1        5\n",
       "2                            Falcon 9 (v1.1)        1       15\n",
       "3                Falcon 9 Full Thrust (v1.2)        1       11"
      ]
     },
     "execution_count": 70,
     "metadata": {},
     "output_type": "execute_result"
    }
   ],
   "source": [
    "pivot_df = data_s_f_rocket.pivot(index='Vehicle Type', columns='Mission Outcome', values='Count').reset_index()\n",
    "pivot_df"
   ]
  },
  {
   "cell_type": "code",
   "execution_count": 71,
   "id": "ffe359ea",
   "metadata": {},
   "outputs": [
    {
     "data": {
      "text/plain": [
       "<AxesSubplot: xlabel='Vehicle Type'>"
      ]
     },
     "execution_count": 71,
     "metadata": {},
     "output_type": "execute_result"
    },
    {
     "data": {
      "image/png": "[encoded data removed]",
      "text/plain": [
       "<Figure size 640x480 with 1 Axes>"
      ]
     },
     "metadata": {},
     "output_type": "display_data"
    }
   ],
   "source": [
    "pivot_df.plot.bar(x='Vehicle Type', y=['Success', 'Failure'])"
   ]
  },
  {
   "cell_type": "code",
   "execution_count": 72,
   "id": "14c1df16",
   "metadata": {},
   "outputs": [
    {
     "data": {
      "text/plain": [
       "array(['Engine Fire During Launch', 'Engine Shutdown During Launch',\n",
       "       'Collision During Launch', nan, 'Engine Failure During Flight',\n",
       "       'Vehicle Explosion During Flight',\n",
       "       'Vehicle Explosion Before Launch'], dtype=object)"
      ]
     },
     "execution_count": 72,
     "metadata": {},
     "output_type": "execute_result"
    }
   ],
   "source": [
    "data['Failure Reason'].unique()"
   ]
  },
  {
   "cell_type": "code",
   "execution_count": 73,
   "id": "9f531a06",
   "metadata": {},
   "outputs": [],
   "source": [
    "mask = data['Failure Reason'].notnull()"
   ]
  },
  {
   "cell_type": "code",
   "execution_count": 74,
   "id": "932d1506",
   "metadata": {},
   "outputs": [
    {
     "data": {
      "text/plain": [
       "0           Engine Fire During Launch\n",
       "1       Engine Shutdown During Launch\n",
       "2             Collision During Launch\n",
       "3             Collision During Launch\n",
       "4             Collision During Launch\n",
       "11       Engine Failure During Flight\n",
       "27    Vehicle Explosion During Flight\n",
       "38    Vehicle Explosion Before Launch\n",
       "Name: Failure Reason, dtype: object"
      ]
     },
     "execution_count": 74,
     "metadata": {},
     "output_type": "execute_result"
    }
   ],
   "source": [
    "reason_fail = data.loc[mask, 'Failure Reason']\n",
    "reason_fail"
   ]
  },
  {
   "cell_type": "code",
   "execution_count": 75,
   "id": "cc7e5699",
   "metadata": {},
   "outputs": [
    {
     "data": {
      "text/plain": [
       "Collision During Launch            3\n",
       "Engine Fire During Launch          1\n",
       "Engine Shutdown During Launch      1\n",
       "Engine Failure During Flight       1\n",
       "Vehicle Explosion During Flight    1\n",
       "Vehicle Explosion Before Launch    1\n",
       "Name: Failure Reason, dtype: int64"
      ]
     },
     "execution_count": 75,
     "metadata": {},
     "output_type": "execute_result"
    }
   ],
   "source": [
    "reason_fail_ = reason_fail.value_counts()\n",
    "reason_fail_"
   ]
  },
  {
   "cell_type": "code",
   "execution_count": 78,
   "id": "08bb279e",
   "metadata": {},
   "outputs": [
    {
     "data": {
      "text/html": [
       "<div>\n",
       "<style scoped>\n",
       "    .dataframe tbody tr th:only-of-type {\n",
       "        vertical-align: middle;\n",
       "    }\n",
       "\n",
       "    .dataframe tbody tr th {\n",
       "        vertical-align: top;\n",
       "    }\n",
       "\n",
       "    .dataframe thead th {\n",
       "        text-align: right;\n",
       "    }\n",
       "</style>\n",
       "<table border=\"1\" class=\"dataframe\">\n",
       "  <thead>\n",
       "    <tr style=\"text-align: right;\">\n",
       "      <th></th>\n",
       "      <th>Failure Reason</th>\n",
       "    </tr>\n",
       "  </thead>\n",
       "  <tbody>\n",
       "    <tr>\n",
       "      <th>Collision During Launch</th>\n",
       "      <td>3</td>\n",
       "    </tr>\n",
       "    <tr>\n",
       "      <th>Engine Fire During Launch</th>\n",
       "      <td>1</td>\n",
       "    </tr>\n",
       "    <tr>\n",
       "      <th>Engine Shutdown During Launch</th>\n",
       "      <td>1</td>\n",
       "    </tr>\n",
       "    <tr>\n",
       "      <th>Engine Failure During Flight</th>\n",
       "      <td>1</td>\n",
       "    </tr>\n",
       "    <tr>\n",
       "      <th>Vehicle Explosion During Flight</th>\n",
       "      <td>1</td>\n",
       "    </tr>\n",
       "    <tr>\n",
       "      <th>Vehicle Explosion Before Launch</th>\n",
       "      <td>1</td>\n",
       "    </tr>\n",
       "  </tbody>\n",
       "</table>\n",
       "</div>"
      ],
      "text/plain": [
       "                                 Failure Reason\n",
       "Collision During Launch                       3\n",
       "Engine Fire During Launch                     1\n",
       "Engine Shutdown During Launch                 1\n",
       "Engine Failure During Flight                  1\n",
       "Vehicle Explosion During Flight               1\n",
       "Vehicle Explosion Before Launch               1"
      ]
     },
     "execution_count": 78,
     "metadata": {},
     "output_type": "execute_result"
    }
   ],
   "source": [
    "reason_fail_df = reason_fail_.to_frame()\n",
    "reason_fail_df"
   ]
  },
  {
   "cell_type": "code",
   "execution_count": 79,
   "id": "60fb3dc0",
   "metadata": {},
   "outputs": [
    {
     "data": {
      "text/html": [
       "<div>\n",
       "<style scoped>\n",
       "    .dataframe tbody tr th:only-of-type {\n",
       "        vertical-align: middle;\n",
       "    }\n",
       "\n",
       "    .dataframe tbody tr th {\n",
       "        vertical-align: top;\n",
       "    }\n",
       "\n",
       "    .dataframe thead th {\n",
       "        text-align: right;\n",
       "    }\n",
       "</style>\n",
       "<table border=\"1\" class=\"dataframe\">\n",
       "  <thead>\n",
       "    <tr style=\"text-align: right;\">\n",
       "      <th></th>\n",
       "      <th>index</th>\n",
       "      <th>Failure Reason</th>\n",
       "    </tr>\n",
       "  </thead>\n",
       "  <tbody>\n",
       "    <tr>\n",
       "      <th>0</th>\n",
       "      <td>Collision During Launch</td>\n",
       "      <td>3</td>\n",
       "    </tr>\n",
       "    <tr>\n",
       "      <th>1</th>\n",
       "      <td>Engine Fire During Launch</td>\n",
       "      <td>1</td>\n",
       "    </tr>\n",
       "    <tr>\n",
       "      <th>2</th>\n",
       "      <td>Engine Shutdown During Launch</td>\n",
       "      <td>1</td>\n",
       "    </tr>\n",
       "    <tr>\n",
       "      <th>3</th>\n",
       "      <td>Engine Failure During Flight</td>\n",
       "      <td>1</td>\n",
       "    </tr>\n",
       "    <tr>\n",
       "      <th>4</th>\n",
       "      <td>Vehicle Explosion During Flight</td>\n",
       "      <td>1</td>\n",
       "    </tr>\n",
       "    <tr>\n",
       "      <th>5</th>\n",
       "      <td>Vehicle Explosion Before Launch</td>\n",
       "      <td>1</td>\n",
       "    </tr>\n",
       "  </tbody>\n",
       "</table>\n",
       "</div>"
      ],
      "text/plain": [
       "                             index  Failure Reason\n",
       "0          Collision During Launch               3\n",
       "1        Engine Fire During Launch               1\n",
       "2    Engine Shutdown During Launch               1\n",
       "3     Engine Failure During Flight               1\n",
       "4  Vehicle Explosion During Flight               1\n",
       "5  Vehicle Explosion Before Launch               1"
      ]
     },
     "execution_count": 79,
     "metadata": {},
     "output_type": "execute_result"
    }
   ],
   "source": [
    "reason_fail_df_ = reason_fail_df.reset_index(drop=False)\n",
    "reason_fail_df_"
   ]
  },
  {
   "cell_type": "code",
   "execution_count": 82,
   "id": "a77e02d1",
   "metadata": {},
   "outputs": [
    {
     "data": {
      "text/html": [
       "<div>\n",
       "<style scoped>\n",
       "    .dataframe tbody tr th:only-of-type {\n",
       "        vertical-align: middle;\n",
       "    }\n",
       "\n",
       "    .dataframe tbody tr th {\n",
       "        vertical-align: top;\n",
       "    }\n",
       "\n",
       "    .dataframe thead th {\n",
       "        text-align: right;\n",
       "    }\n",
       "</style>\n",
       "<table border=\"1\" class=\"dataframe\">\n",
       "  <thead>\n",
       "    <tr style=\"text-align: right;\">\n",
       "      <th></th>\n",
       "      <th>Failure Reason</th>\n",
       "      <th>Count</th>\n",
       "    </tr>\n",
       "  </thead>\n",
       "  <tbody>\n",
       "    <tr>\n",
       "      <th>0</th>\n",
       "      <td>Collision During Launch</td>\n",
       "      <td>3</td>\n",
       "    </tr>\n",
       "    <tr>\n",
       "      <th>1</th>\n",
       "      <td>Engine Fire During Launch</td>\n",
       "      <td>1</td>\n",
       "    </tr>\n",
       "    <tr>\n",
       "      <th>2</th>\n",
       "      <td>Engine Shutdown During Launch</td>\n",
       "      <td>1</td>\n",
       "    </tr>\n",
       "    <tr>\n",
       "      <th>3</th>\n",
       "      <td>Engine Failure During Flight</td>\n",
       "      <td>1</td>\n",
       "    </tr>\n",
       "    <tr>\n",
       "      <th>4</th>\n",
       "      <td>Vehicle Explosion During Flight</td>\n",
       "      <td>1</td>\n",
       "    </tr>\n",
       "    <tr>\n",
       "      <th>5</th>\n",
       "      <td>Vehicle Explosion Before Launch</td>\n",
       "      <td>1</td>\n",
       "    </tr>\n",
       "  </tbody>\n",
       "</table>\n",
       "</div>"
      ],
      "text/plain": [
       "                    Failure Reason  Count\n",
       "0          Collision During Launch      3\n",
       "1        Engine Fire During Launch      1\n",
       "2    Engine Shutdown During Launch      1\n",
       "3     Engine Failure During Flight      1\n",
       "4  Vehicle Explosion During Flight      1\n",
       "5  Vehicle Explosion Before Launch      1"
      ]
     },
     "execution_count": 82,
     "metadata": {},
     "output_type": "execute_result"
    }
   ],
   "source": [
    "reason_fail_df_ro = reason_fail_df_.rename(columns={'index': 'Failure Reason', 'Failure Reason': 'Count'})\n",
    "reason_fail_df_ro"
   ]
  },
  {
   "cell_type": "code",
   "execution_count": 86,
   "id": "ea23028f",
   "metadata": {},
   "outputs": [
    {
     "ename": "NameError",
     "evalue": "name 'explode' is not defined",
     "output_type": "error",
     "traceback": [
      "\u001b[1;31m---------------------------------------------------------------------------\u001b[0m",
      "\u001b[1;31mNameError\u001b[0m                                 Traceback (most recent call last)",
      "\u001b[1;32m~\\AppData\\Local\\Temp\\ipykernel_15968\\349958508.py\u001b[0m in \u001b[0;36m<module>\u001b[1;34m\u001b[0m\n\u001b[0;32m      3\u001b[0m \u001b[1;33m\u001b[0m\u001b[0m\n\u001b[0;32m      4\u001b[0m \u001b[0mfig\u001b[0m\u001b[1;33m,\u001b[0m \u001b[0max\u001b[0m \u001b[1;33m=\u001b[0m \u001b[0mplt\u001b[0m\u001b[1;33m.\u001b[0m\u001b[0msubplots\u001b[0m\u001b[1;33m(\u001b[0m\u001b[1;33m)\u001b[0m\u001b[1;33m\u001b[0m\u001b[1;33m\u001b[0m\u001b[0m\n\u001b[1;32m----> 5\u001b[1;33m \u001b[0max\u001b[0m\u001b[1;33m.\u001b[0m\u001b[0mpie\u001b[0m\u001b[1;33m(\u001b[0m\u001b[0msizes\u001b[0m\u001b[1;33m,\u001b[0m \u001b[0mlabels\u001b[0m\u001b[1;33m=\u001b[0m\u001b[0mlabel\u001b[0m\u001b[1;33m,\u001b[0m \u001b[0mautopct\u001b[0m\u001b[1;33m=\u001b[0m\u001b[1;34m'%1.1f%%'\u001b[0m\u001b[1;33m,\u001b[0m \u001b[0mexplode\u001b[0m\u001b[1;33m=\u001b[0m\u001b[0mexplode\u001b[0m\u001b[1;33m)\u001b[0m\u001b[1;33m\u001b[0m\u001b[1;33m\u001b[0m\u001b[0m\n\u001b[0m\u001b[0;32m      6\u001b[0m \u001b[1;31m#ax.set_title('\\nOverview of Israeli-Palestinian Casualties\\n');\u001b[0m\u001b[1;33m\u001b[0m\u001b[1;33m\u001b[0m\u001b[0m\n\u001b[0;32m      7\u001b[0m \u001b[1;33m\u001b[0m\u001b[0m\n",
      "\u001b[1;31mNameError\u001b[0m: name 'explode' is not defined"
     ]
    },
    {
     "data": {
      "image/png": "[encoded data removed]",
      "text/plain": [
       "<Figure size 640x480 with 1 Axes>"
      ]
     },
     "metadata": {},
     "output_type": "display_data"
    }
   ],
   "source": [
    "label = 'Collision During Launch', 'Engine Fire During Launch', 'Engine Shutdown During Launch', 'Engine Failure During Flight', 'Vehicle Explosion During Flight', 'Vehicle Explosion Before Launch'\n",
    "sizes = [3, 1, 1, 1, 1, 1]\n",
    "\n",
    "fig, ax = plt.subplots()\n",
    "ax.pie(sizes, labels=label, autopct='%1.1f%%', explode=explode)\n",
    "#ax.set_title('\\nOverview of Israeli-Palestinian Casualties\\n');\n",
    "\n",
    "#reason_fail_df_ro.plot.pie(x='Failure Reason', y='Count')"
   ]
  },
  {
   "cell_type": "code",
   "execution_count": null,
   "id": "ec170607",
   "metadata": {},
   "outputs": [],
   "source": []
  }
 ],
 "metadata": {
  "kernelspec": {
   "display_name": "Python 3 (ipykernel)",
   "language": "python",
   "name": "python3"
  },
  "language_info": {
   "codemirror_mode": {
    "name": "ipython",
    "version": 3
   },
   "file_extension": ".py",
   "mimetype": "text/x-python",
   "name": "python",
   "nbconvert_exporter": "python",
   "pygments_lexer": "ipython3",
   "version": "3.9.12"
  }
 },
 "nbformat": 4,
 "nbformat_minor": 5
}
